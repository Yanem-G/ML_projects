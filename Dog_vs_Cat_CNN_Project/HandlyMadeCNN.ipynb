{
 "cells": [
  {
   "cell_type": "code",
   "execution_count": 1,
   "id": "65ad8b4a",
   "metadata": {},
   "outputs": [],
   "source": [
    "import pandas as pd\n",
    "import os\n",
    "import tensorflow as tf\n",
    "from tensorflow.keras.preprocessing.image import ImageDataGenerator\n",
    "from tensorflow.keras.models import Sequential\n",
    "from tensorflow.keras.layers import Conv2D, MaxPooling2D, Flatten, Dense, Dropout,BatchNormalization,Activation\n",
    "from tensorflow.keras.optimizers import Adam"
   ]
  },
  {
   "cell_type": "code",
   "execution_count": null,
   "id": "9929eeef",
   "metadata": {},
   "outputs": [],
   "source": [
    "# List all test image filenames and sort them\n",
    "test_folder = r'C:\\Users\\agnao\\OneDrive\\Desktop\\workshop AI\\Dog_vs_Cat_CNN_Project\\test'\n",
    "filenames = os.listdir(test_folder)\n",
    "filenames.sort()  # ensures 1.jpg, 2.jpg, ... 12500.jpg order\n",
    "\n",
    "# Create DataFrame for the generator\n",
    "test_df = pd.DataFrame({'filename': filenames})"
   ]
  },
  {
   "cell_type": "code",
   "execution_count": null,
   "id": "d27c2eac",
   "metadata": {},
   "outputs": [
    {
     "name": "stdout",
     "output_type": "stream",
     "text": [
      "Found 20000 images belonging to 2 classes.\n",
      "Found 5000 images belonging to 2 classes.\n",
      "Found 12500 validated image filenames.\n"
     ]
    }
   ],
   "source": [
    "#data preprocessing\n",
    "train_datagen = ImageDataGenerator(rescale = 1./255,validation_split=0.2)  # 20% for validation\n",
    "test_datagen = ImageDataGenerator(rescale = 1./255)\n",
    "\n",
    "train_generator = train_datagen.flow_from_directory(\n",
    "                  r'C:\\Users\\agnao\\OneDrive\\Desktop\\workshop AI\\Dog_vs_Cat_CNN_Project\\train',\n",
    "                  target_size =(100, 100),  # target_size = input image size\n",
    "                  batch_size = 32,\n",
    "                  class_mode ='binary',\n",
    "                  subset='training')\n",
    "\n",
    "validation_generator = train_datagen.flow_from_directory(\n",
    "                  r'C:\\Users\\agnao\\OneDrive\\Desktop\\workshop AI\\Dog_vs_Cat_CNN_Project\\train',\n",
    "                  target_size =(100, 100), \n",
    "                  batch_size = 32,\n",
    "                  class_mode ='binary',\n",
    "                  subset='validation')\n",
    "\n",
    "\n",
    "test_generator = test_datagen.flow_from_dataframe(\n",
    "                    dataframe=test_df,\n",
    "                    directory=r'C:\\Users\\agnao\\OneDrive\\Desktop\\workshop AI\\Dog_vs_Cat_CNN_Project\\test',\n",
    "                    x_col='filename',\n",
    "                    target_size =(100, 100),\n",
    "                    batch_size = 32,\n",
    "                    class_mode =None,\n",
    "                    shuffle=False\n",
    "                    )"
   ]
  },
  {
   "cell_type": "code",
   "execution_count": 4,
   "id": "3eb0adc2",
   "metadata": {},
   "outputs": [],
   "source": [
    "#building model\n",
    "import random\n",
    "options={\n",
    "    \"filters_per_layer_sets\" : [[64, 128, 256],[64,128,256,512]],\n",
    "    'dense_units': [256, 512],\n",
    "    'learning_rate': [1e-3, 7.5e-4],\n",
    "    'L2_weight': [0.01, 0.005]\n",
    "}\n",
    "\n",
    "def select_hyper_par(options):\n",
    "    set_of_filters = random.choice(options[\"filters_per_layer_sets\"])\n",
    "    dense_units=random.choice(options[\"dense_units\"])\n",
    "    learning_rate=random.choice(options[\"learning_rate\"])\n",
    "    L2_weight=random.choice(options[\"L2_weight\"])\n",
    "\n",
    "    return{\n",
    "        \"num_of_conv_layers\":len(set_of_filters),\n",
    "        \"filters_per_layer\":set_of_filters,\n",
    "        'dense_units': dense_units,\n",
    "        'learning_rate': learning_rate,\n",
    "        'L2_weight':L2_weight\n",
    "    }\n",
    "\n",
    "def build_model(options):\n",
    "    model = Sequential()\n",
    "\n",
    "    filters=options[\"filters_per_layer\"]\n",
    "    dense_units=options[\"dense_units\"]\n",
    "    learning_rate=options[\"learning_rate\"]\n",
    "    L2_weight=options[\"L2_weight\"]\n",
    "\n",
    "    for i,f in enumerate(filters):\n",
    "        if i == 0:\n",
    "            model.add(Conv2D(f,(3,3), input_shape=(100, 100, 3)))\n",
    "            model.add(BatchNormalization())\n",
    "            model.add(Activation('relu'))\n",
    "        else:\n",
    "            model.add(Conv2D(f,(3,3)))\n",
    "            model.add(BatchNormalization())\n",
    "            model.add(Activation('relu'))\n",
    "        model.add(MaxPooling2D(pool_size=(2,2)))\n",
    "\n",
    "    model.add(Flatten())\n",
    "    model.add(Dense(dense_units))\n",
    "    model.add(BatchNormalization())\n",
    "    model.add(Activation('relu'))\n",
    "    model.add(Dropout(0.3))\n",
    "    model.add(Dense(1,activation='sigmoid',kernel_regularizer =tf.keras.regularizers.l2(L2_weight)))\n",
    "\n",
    "    optimizer = Adam(learning_rate=learning_rate)\n",
    "    model.compile(optimizer=optimizer, loss='binary_crossentropy', metrics=['accuracy'])\n",
    "    return model\n"
   ]
  },
  {
   "cell_type": "code",
   "execution_count": null,
   "id": "e304bdf5",
   "metadata": {},
   "outputs": [],
   "source": [
    "from keras.callbacks import EarlyStopping\n",
    "\n",
    "early_stop = EarlyStopping(monitor='val_loss', patience=10, restore_best_weights=True)"
   ]
  },
  {
   "cell_type": "code",
   "execution_count": null,
   "id": "5421e638",
   "metadata": {},
   "outputs": [
    {
     "name": "stdout",
     "output_type": "stream",
     "text": [
      "Found 5000 images belonging to 2 classes.\n",
      "{'num_of_conv_layers': 3, 'filters_per_layer': [64, 128, 256], 'dense_units': 256, 'learning_rate': 0.001, 'L2_weight': 0.01}\n",
      "0.3784970218333528\n"
     ]
    }
   ],
   "source": [
    "\n",
    "# we test multiple model using validation_generator\n",
    "search_datagen = ImageDataGenerator(\n",
    "    rescale=1./255,\n",
    "    validation_split=0.8  # Use 20% of data for search\n",
    ")\n",
    "\n",
    "# Small subset\n",
    "search_generator = search_datagen.flow_from_directory(\n",
    "    directory=r'C:\\Users\\agnao\\OneDrive\\Desktop\\workshop AI\\Dog_vs_Cat_CNN_Project\\train',\n",
    "    target_size=(100, 100),\n",
    "    batch_size=32,\n",
    "    class_mode='binary',\n",
    "    subset='training',\n",
    "    seed=42\n",
    ")\n",
    "def Random_search(n_iter):\n",
    "    best_score = 0\n",
    "    best_params = None\n",
    "\n",
    "    for i in range(n_iter):\n",
    "        params=select_hyper_par(options)\n",
    "        model = build_model(params)\n",
    "        history = model.fit(\n",
    "                    search_generator,\n",
    "                    steps_per_epoch = 40, #num_train_samples // batch_size\n",
    "                    epochs = 10,\n",
    "                    validation_data = validation_generator,\n",
    "                    validation_steps=20,\n",
    "                    verbose=0,\n",
    "                    callbacks=[EarlyStopping(monitor='val_loss', patience=3, restore_best_weights=True)])\n",
    "        # Mandatory reset\n",
    "        search_generator.reset()\n",
    "        validation_generator.reset()\n",
    "\n",
    "        val_acc = max(history.history['val_accuracy'])\n",
    "        val_loss = min(history.history['val_loss'])\n",
    "\n",
    "        # Better scoring metric (higher is better)\n",
    "        score = val_acc / (1 + val_loss)\n",
    "\n",
    "        if i == 0 or score > best_score:\n",
    "            best_score = score\n",
    "            best_params = params\n",
    "    return best_params,best_score\n",
    "params,best_score = Random_search(10)\n",
    "print(params)\n",
    "print(best_score)"
   ]
  },
  {
   "cell_type": "code",
   "execution_count": null,
   "id": "f048e759",
   "metadata": {},
   "outputs": [],
   "source": [
    "#best params after multiple random search\n",
    "best_params = {'num_of_conv_layers': 4, 'filters_per_layer': [64, 128, 256, 512], 'dense_units': 512, 'learning_rate': 0.001, 'L2_weight': 0.01}"
   ]
  },
  {
   "cell_type": "code",
   "execution_count": null,
   "id": "78224374",
   "metadata": {},
   "outputs": [],
   "source": [
    "\n",
    "# Your compiled model being trained with fit_generator\n",
    "model = build_model(params)\n",
    "history = model.fit(\n",
    "             train_generator,\n",
    "             steps_per_epoch = 625, # num_train_samples // batch_size\n",
    "             epochs = 20,\n",
    "             validation_data = validation_generator,\n",
    "             validation_steps = 156, # num_validation_samples // batch_size\n",
    "             callbacks=[early_stop])"
   ]
  },
  {
   "cell_type": "code",
   "execution_count": null,
   "id": "10d1c547",
   "metadata": {},
   "outputs": [
    {
     "name": "stdout",
     "output_type": "stream",
     "text": [
      "\u001b[1m391/391\u001b[0m \u001b[32m━━━━━━━━━━━━━━━━━━━━\u001b[0m\u001b[37m\u001b[0m \u001b[1m52s\u001b[0m 132ms/step\n"
     ]
    }
   ],
   "source": [
    "predictions = model.predict(test_generator, steps=len(test_generator))\n"
   ]
  },
  {
   "cell_type": "code",
   "execution_count": null,
   "id": "35d5f420",
   "metadata": {},
   "outputs": [],
   "source": [
    "predicted_classes = (predictions > 0.5).astype(int)\n"
   ]
  },
  {
   "cell_type": "code",
   "execution_count": null,
   "id": "79a96042",
   "metadata": {},
   "outputs": [],
   "source": [
    "\n",
    "# Add predictions to DataFrame\n",
    "test_df['id'] = test_df['filename'].str.replace('.jpg', '').astype(int)\n",
    "test_df['label'] = predicted_classes.flatten()\n",
    "\n",
    "# Create final submission DataFrame and save CSV\n",
    "submission_df = test_df[['id', 'label']].sort_values('id')  # ensure it's in correct id order\n",
    "submission_df.to_csv('final_submission.csv', index=False)"
   ]
  },
  {
   "cell_type": "code",
   "execution_count": null,
   "id": "e274f7a6",
   "metadata": {},
   "outputs": [],
   "source": [
    "import matplotlib.pyplot as plt\n",
    "\n",
    "def plot_history(history):\n",
    "    # Plot training & validation accuracy values\n",
    "    plt.figure(figsize=(12, 4))\n",
    "    plt.subplot(1, 2, 1)\n",
    "    plt.plot(history.history['accuracy'])\n",
    "    plt.plot(history.history['val_accuracy'])\n",
    "    plt.title('Model accuracy')\n",
    "    plt.ylabel('Accuracy')\n",
    "    plt.xlabel('Epoch')\n",
    "    plt.legend(['Train', 'Validation'], loc='upper left')\n",
    "    \n",
    "    # Plot training & validation loss values\n",
    "    plt.subplot(1, 2, 2)\n",
    "    plt.plot(history.history['loss'])\n",
    "    plt.plot(history.history['val_loss'])\n",
    "    plt.title('Model loss')\n",
    "    plt.ylabel('Loss')\n",
    "    plt.xlabel('Epoch')\n",
    "    plt.legend(['Train', 'Validation'], loc='upper left')\n",
    "    plt.show()\n",
    "\n",
    "plot_history(history)"
   ]
  }
 ],
 "metadata": {
  "kernelspec": {
   "display_name": "workshop",
   "language": "python",
   "name": "python3"
  },
  "language_info": {
   "codemirror_mode": {
    "name": "ipython",
    "version": 3
   },
   "file_extension": ".py",
   "mimetype": "text/x-python",
   "name": "python",
   "nbconvert_exporter": "python",
   "pygments_lexer": "ipython3",
   "version": "3.12.3"
  }
 },
 "nbformat": 4,
 "nbformat_minor": 5
}
